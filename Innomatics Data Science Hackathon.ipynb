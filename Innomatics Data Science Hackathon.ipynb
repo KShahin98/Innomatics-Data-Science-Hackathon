{
 "cells": [
  {
   "cell_type": "code",
   "execution_count": 1,
   "id": "0ac3cefc-126f-4bb3-af51-f8b66a886dd1",
   "metadata": {},
   "outputs": [],
   "source": [
    "import pandas as pd\n",
    "import numpy as np"
   ]
  },
  {
   "cell_type": "code",
   "execution_count": 2,
   "id": "ae419802-f817-47f7-bcab-7affa393a793",
   "metadata": {},
   "outputs": [],
   "source": [
    "movies_df =pd.read_csv('movies.csv')\n",
    "ratings_df=pd.read_csv('ratings.csv')\n",
    "links_df=pd.read_csv('links.csv')\n",
    "tags_df=pd.read_csv('tags.csv')"
   ]
  },
  {
   "cell_type": "markdown",
   "id": "e07af9ca-4562-47c3-a7d1-093cae879bc9",
   "metadata": {},
   "source": [
    "**What is the shape of \"movies.csv\"?**"
   ]
  },
  {
   "cell_type": "code",
   "execution_count": 3,
   "id": "dad8a768-769b-4344-9ab2-911939bb13ba",
   "metadata": {},
   "outputs": [
    {
     "data": {
      "text/plain": [
       "(9742, 3)"
      ]
     },
     "execution_count": 3,
     "metadata": {},
     "output_type": "execute_result"
    }
   ],
   "source": [
    "movies_df.shape"
   ]
  },
  {
   "cell_type": "markdown",
   "id": "0df73142-bd72-4082-b1ca-e3e855533d62",
   "metadata": {},
   "source": [
    "**What is the shape of \"ratings.csv\"?**\n"
   ]
  },
  {
   "cell_type": "code",
   "execution_count": 4,
   "id": "93705c12-b18b-4fc6-af72-709395a2d6fa",
   "metadata": {},
   "outputs": [
    {
     "data": {
      "text/plain": [
       "(100836, 4)"
      ]
     },
     "execution_count": 4,
     "metadata": {},
     "output_type": "execute_result"
    }
   ],
   "source": [
    "ratings_df.shape"
   ]
  },
  {
   "cell_type": "markdown",
   "id": "d5fa2e03-7dbb-4283-a278-a204aad43f6c",
   "metadata": {},
   "source": [
    "**How many unique \"userId\" are available in \"ratings.csv\"?**\n"
   ]
  },
  {
   "cell_type": "code",
   "execution_count": 5,
   "id": "a9093095-6b6b-4b90-b4d5-0aa7f2489cbb",
   "metadata": {},
   "outputs": [
    {
     "name": "stdout",
     "output_type": "stream",
     "text": [
      "Number of unique userId values in ratings.csv: 610\n"
     ]
    }
   ],
   "source": [
    "unique_user_ids =ratings_df['userId'].nunique()\n",
    "print(\"Number of unique userId values in ratings.csv:\", unique_user_ids)"
   ]
  },
  {
   "cell_type": "markdown",
   "id": "dd533af9-6c29-42f4-b0e0-b013321ea448",
   "metadata": {},
   "source": [
    "**Which movie has recieved maximum number of user ratings?**"
   ]
  },
  {
   "cell_type": "code",
   "execution_count": 6,
   "id": "a0757340-1c27-465a-a2e2-90b31cbb579e",
   "metadata": {},
   "outputs": [
    {
     "data": {
      "text/html": [
       "<div>\n",
       "<style scoped>\n",
       "    .dataframe tbody tr th:only-of-type {\n",
       "        vertical-align: middle;\n",
       "    }\n",
       "\n",
       "    .dataframe tbody tr th {\n",
       "        vertical-align: top;\n",
       "    }\n",
       "\n",
       "    .dataframe thead th {\n",
       "        text-align: right;\n",
       "    }\n",
       "</style>\n",
       "<table border=\"1\" class=\"dataframe\">\n",
       "  <thead>\n",
       "    <tr style=\"text-align: right;\">\n",
       "      <th></th>\n",
       "      <th>movieId</th>\n",
       "      <th>title</th>\n",
       "      <th>genres</th>\n",
       "    </tr>\n",
       "  </thead>\n",
       "  <tbody>\n",
       "    <tr>\n",
       "      <th>0</th>\n",
       "      <td>1</td>\n",
       "      <td>Toy Story (1995)</td>\n",
       "      <td>Adventure|Animation|Children|Comedy|Fantasy</td>\n",
       "    </tr>\n",
       "    <tr>\n",
       "      <th>1</th>\n",
       "      <td>2</td>\n",
       "      <td>Jumanji (1995)</td>\n",
       "      <td>Adventure|Children|Fantasy</td>\n",
       "    </tr>\n",
       "    <tr>\n",
       "      <th>2</th>\n",
       "      <td>3</td>\n",
       "      <td>Grumpier Old Men (1995)</td>\n",
       "      <td>Comedy|Romance</td>\n",
       "    </tr>\n",
       "    <tr>\n",
       "      <th>3</th>\n",
       "      <td>4</td>\n",
       "      <td>Waiting to Exhale (1995)</td>\n",
       "      <td>Comedy|Drama|Romance</td>\n",
       "    </tr>\n",
       "    <tr>\n",
       "      <th>4</th>\n",
       "      <td>5</td>\n",
       "      <td>Father of the Bride Part II (1995)</td>\n",
       "      <td>Comedy</td>\n",
       "    </tr>\n",
       "  </tbody>\n",
       "</table>\n",
       "</div>"
      ],
      "text/plain": [
       "   movieId                               title  \\\n",
       "0        1                    Toy Story (1995)   \n",
       "1        2                      Jumanji (1995)   \n",
       "2        3             Grumpier Old Men (1995)   \n",
       "3        4            Waiting to Exhale (1995)   \n",
       "4        5  Father of the Bride Part II (1995)   \n",
       "\n",
       "                                        genres  \n",
       "0  Adventure|Animation|Children|Comedy|Fantasy  \n",
       "1                   Adventure|Children|Fantasy  \n",
       "2                               Comedy|Romance  \n",
       "3                         Comedy|Drama|Romance  \n",
       "4                                       Comedy  "
      ]
     },
     "execution_count": 6,
     "metadata": {},
     "output_type": "execute_result"
    }
   ],
   "source": [
    "movies_df.head()"
   ]
  },
  {
   "cell_type": "code",
   "execution_count": 7,
   "id": "8e1b10c8-507c-4354-8122-1090eda54268",
   "metadata": {},
   "outputs": [
    {
     "data": {
      "text/html": [
       "<div>\n",
       "<style scoped>\n",
       "    .dataframe tbody tr th:only-of-type {\n",
       "        vertical-align: middle;\n",
       "    }\n",
       "\n",
       "    .dataframe tbody tr th {\n",
       "        vertical-align: top;\n",
       "    }\n",
       "\n",
       "    .dataframe thead th {\n",
       "        text-align: right;\n",
       "    }\n",
       "</style>\n",
       "<table border=\"1\" class=\"dataframe\">\n",
       "  <thead>\n",
       "    <tr style=\"text-align: right;\">\n",
       "      <th></th>\n",
       "      <th>userId</th>\n",
       "      <th>movieId</th>\n",
       "      <th>rating</th>\n",
       "      <th>timestamp</th>\n",
       "    </tr>\n",
       "  </thead>\n",
       "  <tbody>\n",
       "    <tr>\n",
       "      <th>0</th>\n",
       "      <td>1</td>\n",
       "      <td>1</td>\n",
       "      <td>4.0</td>\n",
       "      <td>964982703</td>\n",
       "    </tr>\n",
       "    <tr>\n",
       "      <th>1</th>\n",
       "      <td>1</td>\n",
       "      <td>3</td>\n",
       "      <td>4.0</td>\n",
       "      <td>964981247</td>\n",
       "    </tr>\n",
       "    <tr>\n",
       "      <th>2</th>\n",
       "      <td>1</td>\n",
       "      <td>6</td>\n",
       "      <td>4.0</td>\n",
       "      <td>964982224</td>\n",
       "    </tr>\n",
       "    <tr>\n",
       "      <th>3</th>\n",
       "      <td>1</td>\n",
       "      <td>47</td>\n",
       "      <td>5.0</td>\n",
       "      <td>964983815</td>\n",
       "    </tr>\n",
       "    <tr>\n",
       "      <th>4</th>\n",
       "      <td>1</td>\n",
       "      <td>50</td>\n",
       "      <td>5.0</td>\n",
       "      <td>964982931</td>\n",
       "    </tr>\n",
       "  </tbody>\n",
       "</table>\n",
       "</div>"
      ],
      "text/plain": [
       "   userId  movieId  rating  timestamp\n",
       "0       1        1     4.0  964982703\n",
       "1       1        3     4.0  964981247\n",
       "2       1        6     4.0  964982224\n",
       "3       1       47     5.0  964983815\n",
       "4       1       50     5.0  964982931"
      ]
     },
     "execution_count": 7,
     "metadata": {},
     "output_type": "execute_result"
    }
   ],
   "source": [
    "ratings_df.head()"
   ]
  },
  {
   "cell_type": "code",
   "execution_count": 8,
   "id": "4d360f67-4bfa-4b24-ad66-a6edbe69f89d",
   "metadata": {},
   "outputs": [
    {
     "name": "stdout",
     "output_type": "stream",
     "text": [
      "Movie with the maximum number of user ratings-\n",
      "Movie Title: Forrest Gump (1994)\n"
     ]
    }
   ],
   "source": [
    "merged_df = pd.merge(ratings_df, movies_df, on='movieId')\n",
    "\n",
    "# Find the movie with the maximum number of ratings\n",
    "max_rated_movie = merged_df['title'].value_counts().idxmax()\n",
    "\n",
    "# Display the result\n",
    "print(\"Movie with the maximum number of user ratings-\")\n",
    "print(\"Movie Title:\", max_rated_movie)"
   ]
  },
  {
   "cell_type": "markdown",
   "id": "a26c8111-f020-4a8a-9163-2bafc9bfc879",
   "metadata": {},
   "source": [
    "**Select all the correct tags submitted by users to \"Matrix, The (1999)\" movie?**"
   ]
  },
  {
   "cell_type": "code",
   "execution_count": 9,
   "id": "0cae4dfa-863e-4786-a053-81aaf8520586",
   "metadata": {},
   "outputs": [
    {
     "name": "stdout",
     "output_type": "stream",
     "text": [
      "2571\n"
     ]
    }
   ],
   "source": [
    "matrix_movie_id = movies_df[movies_df['title'] == 'Matrix, The (1999)']['movieId'].iloc[0]\n",
    "print(matrix_movie_id)"
   ]
  },
  {
   "cell_type": "code",
   "execution_count": 10,
   "id": "fec150dd-dd3e-4bf1-9e1a-5edbe856e2c4",
   "metadata": {},
   "outputs": [
    {
     "data": {
      "text/html": [
       "<div>\n",
       "<style scoped>\n",
       "    .dataframe tbody tr th:only-of-type {\n",
       "        vertical-align: middle;\n",
       "    }\n",
       "\n",
       "    .dataframe tbody tr th {\n",
       "        vertical-align: top;\n",
       "    }\n",
       "\n",
       "    .dataframe thead th {\n",
       "        text-align: right;\n",
       "    }\n",
       "</style>\n",
       "<table border=\"1\" class=\"dataframe\">\n",
       "  <thead>\n",
       "    <tr style=\"text-align: right;\">\n",
       "      <th></th>\n",
       "      <th>userId</th>\n",
       "      <th>movieId</th>\n",
       "      <th>tag</th>\n",
       "      <th>timestamp</th>\n",
       "    </tr>\n",
       "  </thead>\n",
       "  <tbody>\n",
       "    <tr>\n",
       "      <th>0</th>\n",
       "      <td>2</td>\n",
       "      <td>60756</td>\n",
       "      <td>funny</td>\n",
       "      <td>1445714994</td>\n",
       "    </tr>\n",
       "    <tr>\n",
       "      <th>1</th>\n",
       "      <td>2</td>\n",
       "      <td>60756</td>\n",
       "      <td>Highly quotable</td>\n",
       "      <td>1445714996</td>\n",
       "    </tr>\n",
       "    <tr>\n",
       "      <th>2</th>\n",
       "      <td>2</td>\n",
       "      <td>60756</td>\n",
       "      <td>will ferrell</td>\n",
       "      <td>1445714992</td>\n",
       "    </tr>\n",
       "    <tr>\n",
       "      <th>3</th>\n",
       "      <td>2</td>\n",
       "      <td>89774</td>\n",
       "      <td>Boxing story</td>\n",
       "      <td>1445715207</td>\n",
       "    </tr>\n",
       "    <tr>\n",
       "      <th>4</th>\n",
       "      <td>2</td>\n",
       "      <td>89774</td>\n",
       "      <td>MMA</td>\n",
       "      <td>1445715200</td>\n",
       "    </tr>\n",
       "  </tbody>\n",
       "</table>\n",
       "</div>"
      ],
      "text/plain": [
       "   userId  movieId              tag   timestamp\n",
       "0       2    60756            funny  1445714994\n",
       "1       2    60756  Highly quotable  1445714996\n",
       "2       2    60756     will ferrell  1445714992\n",
       "3       2    89774     Boxing story  1445715207\n",
       "4       2    89774              MMA  1445715200"
      ]
     },
     "execution_count": 10,
     "metadata": {},
     "output_type": "execute_result"
    }
   ],
   "source": [
    "tags_df.head()"
   ]
  },
  {
   "cell_type": "code",
   "execution_count": 11,
   "id": "01eb942d-f130-4c82-ab53-8730d8aa7dbf",
   "metadata": {},
   "outputs": [
    {
     "name": "stdout",
     "output_type": "stream",
     "text": [
      "Tags submitted by users for 'Matrix, The (1999)':\n",
      "815           martial arts\n",
      "816                 sci-fi\n",
      "1646    alternate universe\n",
      "2794            philosophy\n",
      "2795      post apocalyptic\n",
      "Name: tag, dtype: object\n"
     ]
    }
   ],
   "source": [
    "#tags for \"Matrix, The (1999)\"\n",
    "matrix_tags = tags_df[tags_df['movieId'].eq(movies_df[movies_df['title'].eq('Matrix, The (1999)')]['movieId'].iloc[0])]['tag']\n",
    "\n",
    "\n",
    "print(\"Tags submitted by users for 'Matrix, The (1999)':\")\n",
    "print(matrix_tags)"
   ]
  },
  {
   "cell_type": "markdown",
   "id": "2c660594-1620-4199-98c8-b79bc83a88fe",
   "metadata": {},
   "source": [
    "**What is the average user rating for movie named \"Terminator 2: Judgment Day (1991)\"?**"
   ]
  },
  {
   "cell_type": "code",
   "execution_count": 12,
   "id": "ddf66111-9c96-4e95-b7ae-3dc35b782d90",
   "metadata": {},
   "outputs": [
    {
     "name": "stdout",
     "output_type": "stream",
     "text": [
      "Average user rating for 'Terminator 2: Judgment Day (1991)': 3.9710\n"
     ]
    }
   ],
   "source": [
    "#the movieId for \"Terminator 2: Judgment Day (1991)\"\n",
    "#Locating rows where the title column is exactly equal to 'Terminator 2: Judgment Day (1991)'.\n",
    "#Specifying that only the movieId column should be returned.\n",
    "terminator_movie_id = movies_df.loc[movies_df['title'] == 'Terminator 2: Judgment Day (1991)', 'movieId'].iloc[0]\n",
    "\n",
    "# the average user rating for \"Terminator 2: Judgment Day (1991)\"\n",
    "average_rating = ratings_df.loc[ratings_df['movieId'] == terminator_movie_id, 'rating'].mean()\n",
    "\n",
    "average_rating_ans = format(average_rating, \".4f\")\n",
    "print(\"Average user rating for 'Terminator 2: Judgment Day (1991)':\", average_rating_ans)\n"
   ]
  },
  {
   "cell_type": "markdown",
   "id": "44df2ea4-9ea3-4d4e-9f5d-b5634efd64a3",
   "metadata": {},
   "source": [
    "**How does the data distribution of user ratings for \"Fight Club (1999)\" movie looks like?**"
   ]
  },
  {
   "cell_type": "code",
   "execution_count": 13,
   "id": "d4d01fec-32d0-481c-b528-594604c00e6d",
   "metadata": {},
   "outputs": [],
   "source": [
    "import matplotlib.pyplot as plt"
   ]
  },
  {
   "cell_type": "code",
   "execution_count": 14,
   "id": "cd385989-cef2-426a-b9a3-301e2b6e3581",
   "metadata": {},
   "outputs": [
    {
     "data": {
      "image/png": "[encoded data removed]",
      "text/plain": [
       "<Figure size 640x480 with 1 Axes>"
      ]
     },
     "metadata": {},
     "output_type": "display_data"
    }
   ],
   "source": [
    "#the movieId for \"Fight Club (1999)\"\n",
    "fight_club_movie_id = movies_df.loc[movies_df['title'] == 'Fight Club (1999)', 'movieId'].iloc[0]\n",
    "\n",
    "# Filter ratings for \"Fight Club (1999)\"\n",
    "fight_club_ratings = ratings_df.loc[ratings_df['movieId'] == fight_club_movie_id, 'rating']\n",
    "\n",
    "# Plot histogram for user ratings\n",
    "plt.hist(fight_club_ratings, bins=5, edgecolor='black')  # Adjust the number of bins as needed\n",
    "plt.title('User Ratings for \"Fight Club (1999)\"')\n",
    "plt.xlabel('Rating')\n",
    "plt.ylabel('Number of Users')\n",
    "plt.show()"
   ]
  },
  {
   "cell_type": "markdown",
   "id": "a7bc300e-a6e9-4017-974c-876f1f96c72b",
   "metadata": {},
   "source": [
    "**Which movie is the most popular based on  average user ratings?**\n"
   ]
  },
  {
   "cell_type": "code",
   "execution_count": 15,
   "id": "442c68b9-8d8c-422d-939c-d3bb8d338482",
   "metadata": {},
   "outputs": [
    {
     "data": {
      "text/html": [
       "<div>\n",
       "<style scoped>\n",
       "    .dataframe tbody tr th:only-of-type {\n",
       "        vertical-align: middle;\n",
       "    }\n",
       "\n",
       "    .dataframe tbody tr th {\n",
       "        vertical-align: top;\n",
       "    }\n",
       "\n",
       "    .dataframe thead th {\n",
       "        text-align: right;\n",
       "    }\n",
       "</style>\n",
       "<table border=\"1\" class=\"dataframe\">\n",
       "  <thead>\n",
       "    <tr style=\"text-align: right;\">\n",
       "      <th></th>\n",
       "      <th>movieId</th>\n",
       "      <th>title</th>\n",
       "      <th>genres</th>\n",
       "      <th>rating_count</th>\n",
       "      <th>rating_mean</th>\n",
       "    </tr>\n",
       "  </thead>\n",
       "  <tbody>\n",
       "    <tr>\n",
       "      <th>0</th>\n",
       "      <td>1</td>\n",
       "      <td>Toy Story (1995)</td>\n",
       "      <td>Adventure|Animation|Children|Comedy|Fantasy</td>\n",
       "      <td>215</td>\n",
       "      <td>3.920930</td>\n",
       "    </tr>\n",
       "    <tr>\n",
       "      <th>1</th>\n",
       "      <td>2</td>\n",
       "      <td>Jumanji (1995)</td>\n",
       "      <td>Adventure|Children|Fantasy</td>\n",
       "      <td>110</td>\n",
       "      <td>3.431818</td>\n",
       "    </tr>\n",
       "    <tr>\n",
       "      <th>2</th>\n",
       "      <td>3</td>\n",
       "      <td>Grumpier Old Men (1995)</td>\n",
       "      <td>Comedy|Romance</td>\n",
       "      <td>52</td>\n",
       "      <td>3.259615</td>\n",
       "    </tr>\n",
       "    <tr>\n",
       "      <th>5</th>\n",
       "      <td>6</td>\n",
       "      <td>Heat (1995)</td>\n",
       "      <td>Action|Crime|Thriller</td>\n",
       "      <td>102</td>\n",
       "      <td>3.946078</td>\n",
       "    </tr>\n",
       "    <tr>\n",
       "      <th>6</th>\n",
       "      <td>7</td>\n",
       "      <td>Sabrina (1995)</td>\n",
       "      <td>Comedy|Romance</td>\n",
       "      <td>54</td>\n",
       "      <td>3.185185</td>\n",
       "    </tr>\n",
       "  </tbody>\n",
       "</table>\n",
       "</div>"
      ],
      "text/plain": [
       "   movieId                    title  \\\n",
       "0        1         Toy Story (1995)   \n",
       "1        2           Jumanji (1995)   \n",
       "2        3  Grumpier Old Men (1995)   \n",
       "5        6              Heat (1995)   \n",
       "6        7           Sabrina (1995)   \n",
       "\n",
       "                                        genres  rating_count  rating_mean  \n",
       "0  Adventure|Animation|Children|Comedy|Fantasy           215     3.920930  \n",
       "1                   Adventure|Children|Fantasy           110     3.431818  \n",
       "2                               Comedy|Romance            52     3.259615  \n",
       "5                        Action|Crime|Thriller           102     3.946078  \n",
       "6                               Comedy|Romance            54     3.185185  "
      ]
     },
     "execution_count": 15,
     "metadata": {},
     "output_type": "execute_result"
    }
   ],
   "source": [
    "# Step 1: Group user ratings based on movieId and apply count and mean\n",
    "grouped_ratings = ratings_df.groupby('movieId').agg({'rating': ['count', 'mean']}).reset_index()\n",
    "grouped_ratings.columns = ['movieId', 'rating_count', 'rating_mean']\n",
    "\n",
    "# Step 2: Inner join with the movies dataset\n",
    "merged_df = pd.merge(movies_df, grouped_ratings, on='movieId', how='inner')\n",
    "\n",
    "# Step 3: Filter movies with more than 50 user ratings\n",
    "filtered_df = merged_df[merged_df['rating_count'] > 50]\n",
    "\n",
    "filtered_df.head()"
   ]
  },
  {
   "cell_type": "code",
   "execution_count": 16,
   "id": "a2b3b152-526a-4fa6-9b82-c4d8de286d35",
   "metadata": {},
   "outputs": [
    {
     "name": "stdout",
     "output_type": "stream",
     "text": [
      "Most popular movie based on average user ratings:\n",
      "Movie Title: Shawshank Redemption, The (1994)\n",
      "Average User Rating: 4.429022082018927\n"
     ]
    }
   ],
   "source": [
    "# Assuming you have the filtered_df from the mandatory operations\n",
    "# filtered_df = merged_df[merged_df['rating_count'] > 50]\n",
    "\n",
    "# Find the movie with the highest average user rating\n",
    "most_popular_movie = filtered_df.loc[filtered_df['rating_mean'].idxmax()]\n",
    "\n",
    "# Display the result\n",
    "print(\"Most popular movie based on average user ratings:\")\n",
    "print(\"Movie Title:\", most_popular_movie['title'])\n",
    "print(\"Average User Rating:\", most_popular_movie['rating_mean'])"
   ]
  },
  {
   "cell_type": "markdown",
   "id": "3501346d-0e3c-433a-8da3-b4c33099ba15",
   "metadata": {},
   "source": [
    "**Select all the correct options which comes under top 5 popular movies based on number of user ratings.**\n"
   ]
  },
  {
   "cell_type": "code",
   "execution_count": 17,
   "id": "e6221b8d-e895-4713-b325-d0a838353d79",
   "metadata": {},
   "outputs": [
    {
     "name": "stdout",
     "output_type": "stream",
     "text": [
      "Top 5 popular movies based on the number of user ratings:\n",
      "                                 title  rating_count\n",
      "314                Forrest Gump (1994)           329\n",
      "277   Shawshank Redemption, The (1994)           317\n",
      "257                Pulp Fiction (1994)           307\n",
      "510   Silence of the Lambs, The (1991)           279\n",
      "1938                Matrix, The (1999)           278\n"
     ]
    }
   ],
   "source": [
    "# Select the top 5 popular movies based on the number of user ratings\n",
    "top_5_popular_movies = filtered_df.nlargest(5, 'rating_count')\n",
    "\n",
    "# Display the result\n",
    "print(\"Top 5 popular movies based on the number of user ratings:\")\n",
    "print(top_5_popular_movies[['title', 'rating_count']])"
   ]
  },
  {
   "cell_type": "markdown",
   "id": "9c448506-69bf-4ac5-a0fc-95ed777a3cc7",
   "metadata": {},
   "source": [
    "**Which Sci-Fi movie is \"third most popular\" based on the number of user ratings?**"
   ]
  },
  {
   "cell_type": "code",
   "execution_count": 18,
   "id": "193c8cc1-b864-4ee3-aabb-34eb1f467ae1",
   "metadata": {},
   "outputs": [
    {
     "name": "stdout",
     "output_type": "stream",
     "text": [
      "Third most popular Sci-Fi movie based on the number of user ratings-\n",
      "Movie Title: Jurassic Park (1993)\n",
      "Number of User Ratings: 238\n"
     ]
    }
   ],
   "source": [
    "# Filter Sci-Fi movies\n",
    "sci_fi_movies = filtered_df[filtered_df['genres'].str.contains('Sci-Fi')]\n",
    "\n",
    "# Find the third most popular Sci-Fi movie based on the number of user ratings\n",
    "third_most_popular_sci_fi_movie = sci_fi_movies.nlargest(3, 'rating_count').iloc[-1]\n",
    "\n",
    "# Display the result\n",
    "print(\"Third most popular Sci-Fi movie based on the number of user ratings-\")\n",
    "print(\"Movie Title:\", third_most_popular_sci_fi_movie['title'])\n",
    "print(\"Number of User Ratings:\", third_most_popular_sci_fi_movie['rating_count'])"
   ]
  },
  {
   "cell_type": "markdown",
   "id": "dd6686ea-7ab8-451a-b075-9a0dbf2d8165",
   "metadata": {},
   "source": [
    "**Mention the movieId of the movie which has the highest IMDB rating.**\n"
   ]
  },
  {
   "cell_type": "code",
   "execution_count": 19,
   "id": "409423af-295c-4abb-9d69-f284663975ab",
   "metadata": {},
   "outputs": [
    {
     "name": "stdout",
     "output_type": "stream",
     "text": [
      "Movie with the highest IMDb rating:\n",
      "MovieId: 47.0\n",
      "IMDb Rating: 5.0\n"
     ]
    }
   ],
   "source": [
    "# Assuming this dataset has columns like 'movieId' and 'imdb_rating'\n",
    "# Find the movie with the highest IMDb rating\n",
    "highest_rated_movie = ratings_df.loc[ratings_df['rating'].idxmax()]\n",
    "\n",
    "# Display the result\n",
    "print(\"Movie with the highest IMDb rating:\")\n",
    "print(\"MovieId:\", highest_rated_movie['movieId'])\n",
    "print(\"IMDb Rating:\", highest_rated_movie['rating'])"
   ]
  },
  {
   "cell_type": "markdown",
   "id": "3a5bd085-995b-4de3-a61c-acb058ed3bbf",
   "metadata": {},
   "source": [
    "**Mention the movieId of the \"Sci-Fi\" movie which has the highest IMDB rating.**"
   ]
  },
  {
   "cell_type": "code",
   "execution_count": 20,
   "id": "384b1ee1-b47a-4353-a4ff-605dff71d99f",
   "metadata": {},
   "outputs": [
    {
     "name": "stdout",
     "output_type": "stream",
     "text": [
      "2311\n"
     ]
    }
   ],
   "source": [
    "# Assuming this dataset has columns like 'movieId', 'imdb_rating', and 'genres'\n",
    "# Filter Sci-Fi movies\n",
    "#sci_fi_movies = merged_df[merged_df['genres']=='Sci-Fi']\n",
    "\n",
    "sci_fi_movies = merged_df[merged_df['genres'] == 'Sci-Fi']['movieId'].iloc[0]\n",
    "print(sci_fi_movies)"
   ]
  },
  {
   "cell_type": "code",
   "execution_count": null,
   "id": "43dd24e1-7b5b-4488-8c23-dc1fbef12c71",
   "metadata": {},
   "outputs": [],
   "source": []
  }
 ],
 "metadata": {
  "kernelspec": {
   "display_name": "Python 3 (ipykernel)",
   "language": "python",
   "name": "python3"
  },
  "language_info": {
   "codemirror_mode": {
    "name": "ipython",
    "version": 3
   },
   "file_extension": ".py",
   "mimetype": "text/x-python",
   "name": "python",
   "nbconvert_exporter": "python",
   "pygments_lexer": "ipython3",
   "version": "3.12.4"
  }
 },
 "nbformat": 4,
 "nbformat_minor": 5
}
